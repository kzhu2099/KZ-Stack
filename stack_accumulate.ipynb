{
 "cells": [
  {
   "cell_type": "code",
   "execution_count": null,
   "id": "b029f220",
   "metadata": {},
   "outputs": [],
   "source": [
    "from kzstack import *"
   ]
  },
  {
   "cell_type": "code",
   "execution_count": null,
   "id": "6d3394fa",
   "metadata": {},
   "outputs": [],
   "source": [
    "stacker = KZStack()"
   ]
  },
  {
   "cell_type": "code",
   "execution_count": null,
   "id": "2e6c0412",
   "metadata": {},
   "outputs": [],
   "source": [
    "stacker.get_image_filepaths('data') # upload your own data"
   ]
  },
  {
   "cell_type": "code",
   "execution_count": null,
   "id": "a8161de6",
   "metadata": {},
   "outputs": [],
   "source": [
    "stacker.stack_accumulate(quality_filter = no_quality_filter) # you may create your own filter to select and remove 'bad' images"
   ]
  },
  {
   "cell_type": "code",
   "execution_count": null,
   "id": "aa549da1",
   "metadata": {},
   "outputs": [],
   "source": [
    "stacker.post_process_final_image(denoise_function = no_denoise) # you may create your own denoising function, but post process is a must"
   ]
  },
  {
   "cell_type": "code",
   "execution_count": null,
   "id": "f1d5290b",
   "metadata": {},
   "outputs": [],
   "source": [
    "stacker.save_final_image('final_image_accumulate.png')"
   ]
  },
  {
   "cell_type": "code",
   "execution_count": null,
   "id": "ccef8baa",
   "metadata": {},
   "outputs": [],
   "source": [
    "stacker.show_final_image()"
   ]
  }
 ],
 "metadata": {
  "kernelspec": {
   "display_name": ".venv",
   "language": "python",
   "name": "python3"
  },
  "language_info": {
   "codemirror_mode": {
    "name": "ipython",
    "version": 3
   },
   "file_extension": ".py",
   "mimetype": "text/x-python",
   "name": "python",
   "nbconvert_exporter": "python",
   "pygments_lexer": "ipython3",
   "version": "3.13.0"
  }
 },
 "nbformat": 4,
 "nbformat_minor": 5
}
